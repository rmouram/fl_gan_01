{
 "cells": [
  {
   "cell_type": "code",
   "execution_count": 3,
   "metadata": {},
   "outputs": [
    {
     "name": "stderr",
     "output_type": "stream",
     "text": [
      "2023-12-24 12:52:13.786952: I tensorflow/core/util/port.cc:113] oneDNN custom operations are on. You may see slightly different numerical results due to floating-point round-off errors from different computation orders. To turn them off, set the environment variable `TF_ENABLE_ONEDNN_OPTS=0`.\n",
      "2023-12-24 12:52:13.789052: I external/local_tsl/tsl/cuda/cudart_stub.cc:31] Could not find cuda drivers on your machine, GPU will not be used.\n",
      "2023-12-24 12:52:13.818024: E external/local_xla/xla/stream_executor/cuda/cuda_dnn.cc:9261] Unable to register cuDNN factory: Attempting to register factory for plugin cuDNN when one has already been registered\n",
      "2023-12-24 12:52:13.818074: E external/local_xla/xla/stream_executor/cuda/cuda_fft.cc:607] Unable to register cuFFT factory: Attempting to register factory for plugin cuFFT when one has already been registered\n",
      "2023-12-24 12:52:13.818852: E external/local_xla/xla/stream_executor/cuda/cuda_blas.cc:1515] Unable to register cuBLAS factory: Attempting to register factory for plugin cuBLAS when one has already been registered\n",
      "2023-12-24 12:52:13.823478: I external/local_tsl/tsl/cuda/cudart_stub.cc:31] Could not find cuda drivers on your machine, GPU will not be used.\n",
      "2023-12-24 12:52:13.824641: I tensorflow/core/platform/cpu_feature_guard.cc:182] This TensorFlow binary is optimized to use available CPU instructions in performance-critical operations.\n",
      "To enable the following instructions: AVX2 AVX512F AVX512_VNNI FMA, in other operations, rebuild TensorFlow with the appropriate compiler flags.\n",
      "2023-12-24 12:52:14.516067: W tensorflow/compiler/tf2tensorrt/utils/py_utils.cc:38] TF-TRT Warning: Could not find TensorRT\n"
     ]
    }
   ],
   "source": [
    "import tensorflow as tf"
   ]
  },
  {
   "cell_type": "code",
   "execution_count": 5,
   "metadata": {},
   "outputs": [],
   "source": [
    "def load_partition(idx: int):\n",
    "    \"\"\"Load 1/10th of the training and test data to simulate a partition.\"\"\"\n",
    "    assert idx in range(10)\n",
    "    (x_train, y_train), (x_test, y_test) = tf.keras.datasets.mnist.load_data()\n",
    "    return (\n",
    "        x_train[idx * 6000 : (idx + 1) * 6000],\n",
    "        y_train[idx * 6000 : (idx + 1) * 6000],\n",
    "    ), (\n",
    "        x_test[idx * 1000 : (idx + 1) * 1000],\n",
    "        y_test[idx * 1000 : (idx + 1) * 1000],\n",
    "    )\n"
   ]
  },
  {
   "cell_type": "code",
   "execution_count": 6,
   "metadata": {},
   "outputs": [],
   "source": [
    "client_order = 0\n",
    "\n",
    "# Load a subset of MNIST to simulate the local data partition\n",
    "(x_train, y_train), (x_test, y_test) = load_partition(client_order)"
   ]
  },
  {
   "cell_type": "code",
   "execution_count": 8,
   "metadata": {},
   "outputs": [
    {
     "data": {
      "text/plain": [
       "(6000, 28, 28)"
      ]
     },
     "execution_count": 8,
     "metadata": {},
     "output_type": "execute_result"
    }
   ],
   "source": [
    "x_train.shape"
   ]
  },
  {
   "cell_type": "code",
   "execution_count": 13,
   "metadata": {},
   "outputs": [
    {
     "data": {
      "text/plain": [
       "(6000,)"
      ]
     },
     "execution_count": 13,
     "metadata": {},
     "output_type": "execute_result"
    }
   ],
   "source": [
    "y_train.shape"
   ]
  },
  {
   "cell_type": "code",
   "execution_count": 12,
   "metadata": {},
   "outputs": [
    {
     "data": {
      "text/plain": [
       "(1000, 28, 28)"
      ]
     },
     "execution_count": 12,
     "metadata": {},
     "output_type": "execute_result"
    }
   ],
   "source": [
    "x_test.shape"
   ]
  },
  {
   "cell_type": "code",
   "execution_count": 11,
   "metadata": {},
   "outputs": [
    {
     "data": {
      "text/plain": [
       "(1000,)"
      ]
     },
     "execution_count": 11,
     "metadata": {},
     "output_type": "execute_result"
    }
   ],
   "source": [
    "y_test.shape"
   ]
  },
  {
   "cell_type": "code",
   "execution_count": null,
   "metadata": {},
   "outputs": [],
   "source": [
    "# generator = tf.keras.models.load_model('gan_model_gen')\n",
    "# discriminator = tf.keras.models.load_model('gan_model_dis')"
   ]
  },
  {
   "cell_type": "code",
   "execution_count": null,
   "metadata": {},
   "outputs": [],
   "source": [
    "# # Função para plotar imagens geradas\n",
    "# def plot_generated_images(epoch, generator, examples=10, dim=(1, 10), figsize=(10, 1)):\n",
    "#     noise = np.random.normal(0, 1, size=[examples, 100])\n",
    "#     generated_images = generator.predict(noise)\n",
    "#     generated_images = generated_images.reshape(examples, 28, 28)\n",
    "\n",
    "#     plt.figure(figsize=figsize)\n",
    "#     for i in range(generated_images.shape[0]):\n",
    "#         plt.subplot(dim[0], dim[1], i + 1)\n",
    "#         plt.imshow(generated_images[i], interpolation='nearest', cmap='gray_r')\n",
    "#         plt.axis('off')\n",
    "#     plt.tight_layout()\n",
    "#     plt.savefig(f'gan_generated_image_epoch_{epoch}.png')"
   ]
  },
  {
   "cell_type": "code",
   "execution_count": null,
   "metadata": {},
   "outputs": [],
   "source": [
    "# # Função para fazer previsões (discriminar)\n",
    "# def predict_images(discriminator, images):\n",
    "#     # Normalizar as imagens para o intervalo [-1, 1]\n",
    "#     images = (images - 127.5) / 127.5\n",
    "    \n",
    "#     # Achatando as imagens para vetores\n",
    "#     images_flat = images.reshape(images.shape[0], -1)\n",
    "    \n",
    "#     # Fazer previsões\n",
    "#     predictions = discriminator.predict(images_flat)\n",
    "    \n",
    "#     return predictions\n",
    "\n",
    "# # Carregar imagens reais do MNIST para teste (ou substituir por suas próprias imagens)\n",
    "# (train_images, _), (_, _) = tf.keras.datasets.mnist.load_data()\n",
    "\n",
    "# # Selecionar um subconjunto de imagens para teste\n",
    "# num_images_to_test = 10\n",
    "# test_images = train_images[:num_images_to_test]\n",
    "\n",
    "# # Adapte as dimensões das imagens e adicione a dimensão do canal\n",
    "# test_images = test_images.reshape(num_images_to_test, 28, 28, 1).astype('float32')\n",
    "\n",
    "# # Fazer previsões usando o discriminador\n",
    "# predictions = predict_images(discriminator, test_images)\n",
    "\n",
    "# # Exibir as imagens e suas previsões\n",
    "# plt.figure(figsize=(26, 4))\n",
    "# for i in range(num_images_to_test):\n",
    "#     plt.subplot(2, num_images_to_test, i + 1)\n",
    "#     plt.imshow(test_images[i, :, :, 0], cmap='gray')\n",
    "#     plt.title(\"Real\")\n",
    "#     plt.axis('off')\n",
    "\n",
    "#     plt.subplot(2, num_images_to_test, i + 1 + num_images_to_test)\n",
    "#     plt.bar(range(1), predictions[i, 0], tick_label=['Fake'])\n",
    "#     plt.title(\"Discriminator Prediction\")\n",
    "#     plt.ylim([0, 1])\n",
    "\n",
    "# plt.show()\n"
   ]
  },
  {
   "cell_type": "code",
   "execution_count": null,
   "metadata": {},
   "outputs": [],
   "source": [
    "# plot_generated_images(10, generator)"
   ]
  },
  {
   "cell_type": "code",
   "execution_count": null,
   "metadata": {},
   "outputs": [],
   "source": []
  },
  {
   "cell_type": "code",
   "execution_count": null,
   "metadata": {},
   "outputs": [],
   "source": []
  },
  {
   "cell_type": "code",
   "execution_count": null,
   "metadata": {},
   "outputs": [],
   "source": []
  }
 ],
 "metadata": {
  "kernelspec": {
   "display_name": "env",
   "language": "python",
   "name": "python3"
  },
  "language_info": {
   "codemirror_mode": {
    "name": "ipython",
    "version": 3
   },
   "file_extension": ".py",
   "mimetype": "text/x-python",
   "name": "python",
   "nbconvert_exporter": "python",
   "pygments_lexer": "ipython3",
   "version": "3.10.12"
  }
 },
 "nbformat": 4,
 "nbformat_minor": 2
}
